{
  "cells": [
    {
      "cell_type": "markdown",
      "metadata": {
        "id": "FlJEXNelTtmv"
      },
      "source": [
        "## Category: Getting Started"
      ]
    },
    {
      "cell_type": "markdown",
      "metadata": {
        "id": "KZ0bjAe4Tu8A"
      },
      "source": [
        "### Task 1: Import Modules and Libraries"
      ]
    },
    {
      "cell_type": "code",
      "execution_count": 1,
      "metadata": {
        "id": "wR7f17L3T6RC"
      },
      "outputs": [
        {
          "name": "stderr",
          "output_type": "stream",
          "text": [
            "[nltk_data] Downloading package punkt to /Users/dolu/nltk_data...\n",
            "[nltk_data]   Package punkt is already up-to-date!\n",
            "[nltk_data] Downloading package stopwords to /Users/dolu/nltk_data...\n",
            "[nltk_data]   Package stopwords is already up-to-date!\n"
          ]
        }
      ],
      "source": [
        "import pandas as pd\n",
        "import numpy as np\n",
        "import seaborn as sns\n",
        "import matplotlib.pyplot as plt\n",
        "import re\n",
        "import nltk\n",
        "from nltk.tokenize import word_tokenize\n",
        "from nltk.corpus import stopwords\n",
        "nltk.download('punkt')\n",
        "nltk.download('stopwords')\n",
        "from sklearn.model_selection import train_test_split\n",
        "from sklearn.preprocessing import normalize\n",
        "from sklearn.metrics import accuracy_score, confusion_matrix, classification_report\n",
        "from sklearn.feature_extraction.text import CountVectorizer\n",
        "from sklearn.linear_model import LogisticRegression, SGDClassifier\n",
        "from sklearn.ensemble import RandomForestClassifier\n",
        "from sklearn.model_selection import train_test_split\n",
        "from sklearn.calibration import CalibratedClassifierCV\n",
        "from scipy.sparse import hstack\n",
        "from collections import defaultdict, Counter"
      ]
    },
    {
      "cell_type": "markdown",
      "metadata": {
        "id": "ebSFv0kYVAcq"
      },
      "source": [
        "## Category: Loading Data"
      ]
    },
    {
      "cell_type": "markdown",
      "metadata": {
        "id": "i9Yt7mQLVKCB"
      },
      "source": [
        "### Task 2: Load and Explore the Genes and Variations Dataset"
      ]
    },
    {
      "cell_type": "code",
      "execution_count": 6,
      "metadata": {
        "id": "7-dYjVi4VDLC"
      },
      "outputs": [
        {
          "name": "stdout",
          "output_type": "stream",
          "text": [
            "(3321, 4)\n",
            "Index(['ID', 'Gene', 'Variation', 'Class'], dtype='object')\n",
            "   ID    Gene             Variation  Class\n",
            "0   0  FAM58A  Truncating Mutations      1\n",
            "1   1     CBL                 W802*      2\n",
            "2   2     CBL                 Q249E      2\n",
            "3   3     CBL                 N454D      3\n",
            "4   4     CBL                 L399V      4\n",
            "ID            int64\n",
            "Gene         object\n",
            "Variation    object\n",
            "Class         int64\n",
            "dtype: object\n",
            "ID           3321\n",
            "Gene          264\n",
            "Variation    2996\n",
            "Class           9\n",
            "dtype: int64\n"
          ]
        }
      ],
      "source": [
        "# Read the dataset using the pandas library.\n",
        "variants_df = pd.read_csv('../data/training_variants.txt')\n",
        "# Print the number of data points (rows) and features (columns).\n",
        "print(variants_df.shape)\n",
        "# List the name of each feature.\n",
        "print(variants_df.columns)\n",
        "# Print the first five data points.\n",
        "print(variants_df.head())\n",
        "# Print the data type of each feature.\n",
        "print(variants_df.dtypes)\n",
        "# Print the number of unique categories of each feature.\n",
        "print(variants_df.nunique())\n"
      ]
    },
    {
      "cell_type": "markdown",
      "metadata": {
        "id": "7U-d9o3QVQry"
      },
      "source": [
        "### Task 3: Load the Text Dataset"
      ]
    },
    {
      "cell_type": "code",
      "execution_count": 7,
      "metadata": {
        "id": "sm5buZHkVpub"
      },
      "outputs": [
        {
          "name": "stdout",
          "output_type": "stream",
          "text": [
            "Error occurred while reading the file: Expected 39677 fields in line 6, saw 41313. Error could possibly be due to quotes being ignored when a multi-char delimiter is used.\n",
            "Attempting to read the file with a different approach...\n",
            "Dataset loaded successfully.\n",
            "Number of data points (rows): 3322\n",
            "Number of features (columns): 2\n",
            "Feature names:\n",
            "['ID', 'Text']\n",
            "    ID                                               Text\n",
            "0  NaN                                               None\n",
            "1  0.0  Cyclin-dependent kinases (CDKs) regulate a var...\n",
            "2  1.0   Abstract Background  Non-small cell lung canc...\n",
            "3  2.0   Abstract Background  Non-small cell lung canc...\n",
            "4  3.0  Recent evidence has demonstrated that acquired...\n"
          ]
        }
      ],
      "source": [
        "# Load the dataset into a DataFrame using the pandas library\n",
        "try:\n",
        "    text_df = pd.read_csv('../data/training_text.txt', sep='||', engine='python')\n",
        "except pd.errors.ParserError as e:\n",
        "    print(f\"Error occurred while reading the file: {e}\")\n",
        "    print(\"Attempting to read the file with a different approach...\")\n",
        "    \n",
        "    # If the above method fails, try reading the file manually\n",
        "    with open('../data/training_text.txt', 'r') as file:\n",
        "        lines = file.readlines()\n",
        "    \n",
        "    # Split each line into ID and Text\n",
        "    data = [line.strip().split('||', 1) for line in lines]\n",
        "    \n",
        "    # Create DataFrame\n",
        "    text_df = pd.DataFrame(data, columns=['ID', 'Text'])\n",
        "    \n",
        "    # Convert ID to integer\n",
        "    text_df['ID'] = pd.to_numeric(text_df['ID'], errors='coerce')\n",
        "\n",
        "# Check if the DataFrame was created successfully\n",
        "if text_df is not None and not text_df.empty:\n",
        "    print(\"Dataset loaded successfully.\")\n",
        "else:\n",
        "    print(\"Failed to load the dataset.\")\n",
        "\n",
        "# Compute the number of data points (rows) and features (columns)\n",
        "num_rows, num_columns = text_df.shape\n",
        "print(f\"Number of data points (rows): {num_rows}\")\n",
        "print(f\"Number of features (columns): {num_columns}\")\n",
        "\n",
        "# List the name of each feature.\n",
        "print(\"Feature names:\")\n",
        "print(text_df.columns.tolist())\n",
        "\n",
        "# Print the first five data points.\n",
        "print(text_df.head(5))"
      ]
    },
    {
      "cell_type": "markdown",
      "metadata": {
        "id": "DCz5xHSHVqmJ"
      },
      "source": [
        "## Category: Text Pre-processing"
      ]
    },
    {
      "cell_type": "markdown",
      "metadata": {
        "id": "rkMUFnxdYeC-"
      },
      "source": [
        "### Task 4: Define the Function for Pre-processing"
      ]
    },
    {
      "cell_type": "code",
      "execution_count": 24,
      "metadata": {
        "id": "NOCVw5Y9YaJA"
      },
      "outputs": [],
      "source": [
        "# Create a set of the stopwords of English using NLTK.\n",
        "stop_words = set(stopwords.words('english'))\n",
        "\n",
        "# Define a function to perform cleaning and preprocessing on each text field. This function should:\n",
        "def preprocess_text(text):\n",
        "    # Remove special characters\n",
        "    text = re.sub(r'[^a-zA-Z\\s]', '', text)\n",
        "    \n",
        "    # Replace multiple spaces with a single space\n",
        "    text = re.sub(r'\\s+', ' ', text)\n",
        "    \n",
        "    # Convert to lowercase\n",
        "    text = text.lower()\n",
        "    \n",
        "    # Tokenize the text\n",
        "    tokens = text.split()\n",
        "    \n",
        "    # Remove stopwords\n",
        "    tokens = [word for word in tokens if word not in stop_words]\n",
        "    \n",
        "    # Join the tokens back into a string\n",
        "    cleaned_text = ' '.join(tokens)\n",
        "    \n",
        "    return cleaned_text"
      ]
    },
    {
      "cell_type": "markdown",
      "metadata": {
        "id": "_WzXC5WJYoyD"
      },
      "source": [
        "### Task 5: Pre-process the Data"
      ]
    },
    {
      "cell_type": "code",
      "execution_count": 25,
      "metadata": {},
      "outputs": [
        {
          "name": "stderr",
          "output_type": "stream",
          "text": [
            "[nltk_data] Downloading package punkt to /Users/dolu/nltk_data...\n",
            "[nltk_data]   Package punkt is already up-to-date!\n"
          ]
        },
        {
          "name": "stdout",
          "output_type": "stream",
          "text": [
            "Preprocessed text:\n",
            "cyclindependent kinases cdks regulate variety fundamental cellular processes cdk stands one last orphan cdks activating cyclin identified kinase activity revealed previous work shown cdk silencing increases ets vets erythroblastosis virus e oncogene homolog driven activation mapk pathway confers tamoxifen resistance breast cancer cells precise mechanisms cdk modulates ets activity generally functions cdk remain elusive demonstrate cdk cyclindependent kinase identifying cyclin activating cyclin cyclin orphan cyclin product fama whose mutations cause star syndrome human developmental anomaly whose features include toe syndactyly telecanthus anogenital renal malformations show star syndromeassociated cyclin mutants unable interact cdk cyclin silencing phenocopies cdk silencing increasing craf conferring tamoxifen resistance breast cancer cells cdkcyclin phosphorylates ets vitro cells positively controls ets degradation proteasome ets protein levels increased cells derived star patient increase attributable decreased cyclin levels altogether results reveal additional regulatory mechanism ets plays key roles cancer development also shed light molecular mechanisms underlying star syndromecyclindependent kinases cdks play pivotal role control number fundamental cellular processes human genome contains genes encoding proteins considered members cdk family owing sequence similarity bona fide cdks known activated cyclins although discovered almost ago cdk remains one two cdks without identified cyclin partner knowledge gap largely impeded exploration biological functions cdk act positive cell cycle regulator cells tumor suppressor others cdk interacts ets vets erythroblastosis virus e oncogene homolog transcription factor inhibits transcriptional activity unknown mechanism cdk knockdown derepresses ets increases expression craf protein kinase activates mapk pathway induces resistance mcf cells tamoxifen deorphanize cdk identifying cyclin product fama binding partner mutations gene predict absence truncation cyclin associated star syndrome whose features include toe syndactyly telecanthus anogenital renal malformations heterozygous females however functions cyclin pathogenesis star syndrome remain unknown show recombinant cdkcyclin heterodimer active protein kinase phosphorylates ets vitro cyclin silencing phenocopies cdk silencing increasing craf phosphoerk expression levels inducing tamoxifen resistance estrogen receptor er breast cancer cells show cdkcyclin positively controls ets degradation proteasome phosphorylation two neighboring serines finally detect increased ets expression level cells derived star patient demonstrate attributable decreased cyclin expression level observed cellsprevious sectionnext sectionresultsa yeast twohybrid yh screen unveiled interaction signal cdk mouse protein whose cterminal half presents strong sequence homology human fama gene product whose proposed name cyclin thus performed yh mating assays determine whether human cdk interacts human cyclin fig ac longest cdk isoform p expressed bait protein produced strong interaction phenotype fulllength cyclin expressed prey protein detectable phenotype cyclin p cip cdi kap known binding partners cdks fig b cdk cdk also produced yh signals cyclin albeit notably weaker observed cdk fig b interaction phenotype also observed fulllength cyclin cdk proteins expressed bait prey respectively fig sa tested different isoforms cdk cyclin originating alternative gene splicing two truncated cyclin proteins corresponding hypothetical products two mutated fama genes found star syndrome patients none shorter isoforms produced interaction phenotypes fig c fig safig new window download pptfig cdk cyclin form interaction complex schematic representation different protein isoforms analyzed yh assays amino acid numbers indicated black boxes indicate internal deletions red box indicates differing amino acid sequence compared cdk p b yh assay set cdk proteins expressed baits fusion lexa dna binding domain cdk interacting proteins expressed preys fusion b transcriptional activator peg pjg empty bait prey plasmids expressing lexa b respectively lacz used reporter gene blue yeast indicative yh interaction phenotype c yh assay different cdk cyclin isoforms aminoterminal region ets known interact cdk also assayed western blot analysis myccdk wt kd cycmvhis expression levels transfected hek cells e western blot analysis myccdk wt kd immunoprecipitates obtained using antimyc antibody inputs correspond g total lysates obtained hek cells coexpressing myccdk wt kd cycmvhis f western blot analysis immunoprecipitates obtained using anticdk antibody control goat antibody human breast cancer mcf cells input corresponds g mcf total cell lysates lower band doublet observed upper panel comigrates exogenously expressed untagged cdk thus corresponds endogenous cdk upper band doublet corresponds nonspecific signal demonstrated insensitivity either overexpression cdk seen left lane silencing cdk fig sb another experiment longer gel migration shown fig sdnext examined ability cdk cyclin interact expressed human cells fig e tested wildtype cdk wt kinase dead kd mutant bearing da amino acid substitution abolishes atp binding expressed cyclin mvhis andor myccdk wt kd human embryonic kidney cell line hek expression level cyclin mvhis significantly increased upon coexpression myccdk wt kd lesser extent myccdk wt kd increased upon coexpression cyclin mvhis fig immunoprecipitated myccdk proteins detected presence cyclin cdk wt kd immunoprecipitates proteins coexpressed pairwise fig e confirmed observations detecting presence myccdk cyclin mvhis immunoprecipitates fig sb experiments confirmed lack robust interaction cdkp isoform cyclin fig sc detect interaction endogenous proteins performed immunoprecipitations nontransfected mcf cells derived human breast cancer cdk cyclin antibodies detected cognate endogenous proteins western blotting readily detected cyclin immunoprecipitates obtained cdk antibody control antibody fig f results confirm physical interaction cdk cyclin human cellsto unveil hypothesized cdkcyclin protein kinase activity produced gstcdk strepiicyclin fusion proteins insect cells either individually combination observed gstcdk strepiicyclin copurified thus confirming interaction yet another cellular model fig performed vitro kinase assays purified proteins using histone h generic substrate histone h phosphorylation detected lysates cells coexpressing gstcdk strepiicyclin phosphorylation detected gstcdk strepiicyclin expressed alone strepiicyclin coexpressed gstcdkkd fig next investigated whether ets known interact cdk fig c phosphorylation substrate cdkcyclin detected strong phosphorylation ets gstcdkstrepiicyclin purified heterodimer whereas phosphorylation detected using gstcdk alone gstcdkkdstrepiicyclin heterodimer fig bfig new window download pptfig cdk cyclin mdependent protein kinase vitro protein kinase assay histone h lysates insect cells expressing different proteins purified glutathione sepharose matrix capture gstcdkwt kd fusion proteins alone complex strcycm fusion protein purified protein expression levels analyzed western blots top upper middle kinase activity determined autoradiography histone h whose added amounts visualized coomassie staining lower middle bottom b using purified recombinant hisets substratecdk silencing shown increase etsdriven craf transcription activate mapk pathway investigated whether cyclin also involved regulatory pathway aim highly specific silencing used sirna pools mix four different sirnas low final concentration nm cdk cyclin sirna pools silenced expression cognate targets fig c fig interestingly cyclin sirna pool also caused marked decrease cdk protein level fig fig sb results shown fig suggest cyclin binding stabilizes cdk cyclin silencing induced increase craf protein mrna levels fig b c phosphorylated erk erk protein levels fig sb similarly cdk silencing expected effects cdk cyclin silencing decreased sensitivity er mcf cells tamoxifen similar extent combined silencing genes result higher resistance drug fig sc altogether observations demonstrate functional interaction cyclin cdk negatively controls etsfig new window download pptfig cyclin silencing upregulates craf expression western blot analysis endogenous cdk cyclin expression levels mcf cells response sirnamediated gene silencing b western blot analysis endogenous craf expression levels mcf cells response cdk cyclin silencing quantification shown fig sa c quantitative rtpcr analysis cdk cyclin craf mrna levels response cdk upper cyclin lower silencing p p wished explore mechanism cdkcyclin controls ets ets shortlived protein degraded proteasome straightforward hypothesis cdkcyclin positively controls ets degradation thus examined impact cdk cyclin silencing ets expression levels silencing cdk cyclin caused increase expression levels exogenously expressed flagets protein fig sa well endogenous ets protein fig increase attributable increased ets mrna levels marginally fluctuated response cdk cyclin silencing fig sb examined expression levels flagtagged ets protein expressed alone combination myccdk cdkkd without cyclin mvhis flagets readily detected expressed alone lesser extent coexpressed cdkkd however expression level dramatically decreased coexpressed cdk alone cdk cyclin fig b observations suggest endogenous cyclin levels excess compared cdk mcf cells show major decrease ets levels observed upon cdk coexpression involves cdk kinase activity treatment cells coexpressing flagets cdk cyclin proteasome inhibitor mg largely rescued flagets expression levels fig bfig new window download pptfig cdkcyclin controls ets stability human cancer derived cells western blot analysis endogenous ets expression levels mcf cells response sirnamediated cdk andor cyclin silencing quantification shown fig sb b western blot analysis exogenously expressed flagets protein levels mcf cells cotransfected empty vectors coexpressing myccdk wt kd myccdkcycmvhis latter cells treated h mg proteasome inhibitor proper expression cdk cyclin tagged proteins verified western blot analysis c western blot analysis expression levels exogenously expressed flagets wildtype mutant proteins mcf cells absence c response myccdkcycmvhis expression quantifications shown fig c da mass spectrometry analysis recombinant ets phosphorylated cdkcyclin vitro revealed existence multiple phosphorylated residues among two neighboring phosphoserines positions may form phosphodegron figs ss confirm finding compared phosphorylation level recombinant etswt etssasa protein mutant bearing alanine substitutions two serines expected existence multiple phosphorylation sites detected small reproducible significant decrease phosphorylation level etssasa compared etswt fig thus confirming serser phosphorylated cdkcyclin establish direct link ets phosphorylation cdkcyclin degradation examined expression levels flagetssasa absence cdkcyclin coexpression differ significantly flagets contrary flagetsdbm bearing deletion nterminal destruction box previously shown involved apccdhmediated degradation ets fig c however contrary flagets wild type expression level flagetssasa remained insensitive cdkcyclin coexpression fig altogether results suggest cdkcyclin directly controls ets degradation phosphorylation two serinesfinally studied lymphoblastoid cell line derived patient star syndrome bearing fama mutation cga predicted result aberrant splicing accordance incomplete skewing x chromosome inactivation previously found patient detected decreased expression level cyclin protein star cell line compared control lymphoblastoid cell line line preceding observations detected increased expression level ets protein star cell line compared control fig fig sa examined quantitative rtpcr mrna expression levels corresponding genes star cell line showed decreased expression level cyclin mrna expression level ets mrna similar control cell line fig b demonstrate increase ets protein expression indeed result decreased cyclin expression observed star patientderived cell line expressed cyclin mvhis cell line expression caused decrease ets protein levels fig cfig new window download pptfig decreased cyclin expression star patientderived cells results increased ets protein level western blot analysis cyclin ets protein levels star patientderived lymphoblastoid cell line control lymphoblastoid cell line derived healthy individual quantification shown fig sa b quantitative rtpcr analysis cyclin ets mrna levels cells p c western blot analysis ets protein levels star patientderived lymphoblastoid cell line transfected empty vector vector directing expression cyclin mvhis another western blot revealing endogenously exogenously expressed cyclin levels shown fig sb quantification ets protein levels shown fig scprevious sectionnext sectiondiscussionin work unveil interaction cdk last orphan cdk discovered pregenomic era cyclin cyclin associated human genetic disease far whose functions remain unknown closest paralogs cdk within cdk family cdk proteins interact ltype cyclins interestingly closest paralog cyclins within cyclin family cyclin fig fact none shorter cdk isoforms interact robustly cyclin suggests alternative splicing cdk gene plays important role regulating cdk functionsthe functional relevance interaction cdk cyclin supported different observations proteins seem enhance others stability judged increased expression levels partner exogenously coexpressed fig much reduced endogenous cdk expression level observed response cyclin silencing fig fig sb cdk subject ubiquitinmediated degradation observations suggest cyclin protects cdk degradation cyclin partner cdk least mcf cells also suggest cyclin stability enhanced upon binding cdk independently kinase activity seen cyclin c cdk uncover cyclin mdependent cdk protein kinase activity vitro thus demonstrating protein named cdk sole basis amino acid sequence indeed genuine cyclindependent kinase yh assays reveal truncated cyclin proteins corresponding hypothetical products two star syndromeassociated fama mutations produce interaction phenotype cdk hence regardless whether mutated mrnas undergo nonsensemediated decay suggested decreased cyclin mrna levels star cells shown fig b give rise truncated cyclin proteins females affected star syndrome must exhibit compromised cdkcyclin kinase activity least tissues specific developmental stageswe show ets known interactor cdk phosphorylation substrate cdkcyclin vitro cdkcyclin kinase activity positively controls ets degradation proteasome control seems exerted fine mechanism judged sensitivity ets levels partially decreased cdk cyclin levels achieved mcf cells observed star cells respectively findings offer straightforward explanation already reported upregulation etsdriven transcription craf response cdk silencing bring evidence cdkcyclin directly controls ets degradation phosphorylation two neighboring serines may form noncanonical trcp phosphodegron dsmcpas none two serines precede proline conform usual cdk phosphorylation sites however multiple socalled transcriptional cdks cdk cdk may belong fig shown phosphorylate variety motifs nonprolinedirected fashion especially context molecular docking substrate hypothesized highaffinity interaction cdk pointed domain ets fig c would allow dockingmediated phosphorylation atypical sites control ets degradation involves number players including apccdh cullinring ligase crl formal identification ubiquitin ligase involved cdkcyclin pathway elucidation concerted action ubiquitin ligases regulate ets degradation require studiesour results present number significant biological medical implications first shed light regulation ets plays important role development frequently deregulated many cancers second results contribute understanding molecular mechanisms causing tamoxifen resistance associated reduced cdk expression levels suggest like cdk cyclin could also predictive clinical marker hormone therapy response erpositive breast cancer patients third findings offer interesting hypothesis molecular mechanisms underlying star syndrome ets transgenic mice showing less twofold overexpression ets present severe cranial abnormalities observed star patients could thus caused least part increased ets protein levels another expected consequence enhanced ets expression levels would decreased risk develop certain types cancers increased risk develop others studies various mouse models including models syndrome three copies ets exist revealed ets dosage repress promote tumor growth hence ets exerts noncell autonomous functions cancer intringuingly one star patients identified far diagnosed nephroblastoma finally findings facilitate general exploration biological functions cdk particular role control cell division previous studies suggested either positive role cell cycle control tumorsuppressive activity cancers severe growth retardation exhibited star patients strongly suggests cdkcyclin plays important role control cell proliferationprevious sectionnext sectionmaterials methodscloning cdk cyclin cdnas plasmid constructions tamoxifen response analysis quantitative rtpcr mass spectrometry experiments antibody production detailed si materials methodsyeast twohybrid interaction assays performed yeast interaction mating assays previously described mammalian cell cultures transfections grew human hek mcf cells dmem supplemented volvol fbs invitrogen grew lymphoblastoid cells rpmi glutamax supplemented volvol fbs transfected hek mcf cells using lipofectamine invitrogen plasmids lipofectamine rnaimax invitrogen sirnas jetprime polyplus plasmidssirnas combinations according manufacturers instructions transfected lymphoblastoid cells electroporation neon invitrogen ets stability studies treated mcf cells h transfection mg fisher scientific hcoimmunoprecipitation western blot experiments collected cells scraping pbs centrifugation lymphoblastoid cells lysed sonication lysis buffer containing mm glycerophosphate mm pnitrophenylphosphate mm nmorpholinopropanesulfonic acid mops ph mm egta mm mgcl mm na vanadate mm naf mm phenylphosphate nonidet p protease inhibitor mixture roche spun lysates min g c collected supernatants determined protein content using bradford assay performed immunoprecipitation experiments g total proteins lysis buffer precleared lysates l protein gagarose beads incubated h c rotating wheel added g antibody supernatants incubated h c rotating wheel added l protein gagarose beads incubated h c rotating wheel collected beads centrifugation g c washed three times bead buffer containing mm tris ph mm naf mm nacl mm edta mm egta nonidet p protease inhibitor coktail roche directly added sample buffer washed pellets heatdenatured proteins ran samples bistris sdspage transferred proteins onto hybond nitrocellulose membranes processed blots according standard procedures western blot experiments used following primary antibodies antimyc abcam ab antiv invitrogen r antitubulin santa cruz biotechnology b anticdk covalab pabp santa cruz biotechnology c anticycm homemade dilution covalab pabp dilution antiraf santa cruz biotechnology c antiets santa cruz biotechnology c antiflag sigma f antiactin sigma used hrpcoupled antigoat santa cruz biotechnology sc dilution antimouse biorad dilution antirabbit biorad secondary antibodies revealed blots enhanced chemiluminescence supersignal west femto thermo scientificproduction purification recombinant proteinsgstcdkkdstrepiicycm generated recombinant bacmids dhbac escherichia coli baculoviruses sf cells using bactobac system described provider invitrogen infected sf cells gstcdk gstcdkkdproducing viruses coinfected cells strepiicycmproducing viruses collected cells h infection purify gstfusion proteins spun ml cells resuspended pellet ml lysis buffer pbs mm nacl nonidet p mm naf mm glycerophosphate mm navanadate containing protease inhibitor mixture roche lysed cells sonication spun lysate min g collected soluble fraction added ml glutathionesepharose matrix incubated h c washed four times lysis buffer one time kinase buffer see finally resuspended beads l kinase buffer containing volvol glycerol storagehisets transformed origami de novagen hisets expression vector induced expression mm isopropyldthiogalactopyranoside h c purify hisets spun ml cells resuspended pellet ml lysis buffer pbs mm nacl mm imidazole mm dtt nonidet p containing protease inhibitor mixture without edta roche lysed cells bar using cell disruptor spun lysate min g collected soluble fraction added l cobalt beads thermo scientific h incubation c rotating wheel washed four times lysis buffer elute incubated beads min elution buffer pbs mm imidazole ph containing protease inhibitor mixture spun g collected eluted proteinprotein kinase assays mixed glutathionesepharose beads harboring gstcdk wt kd either monomeric complexed strepiicycm bsa mm dtt atp ci atpp histone h hisets added kinase buffer mm trishcl mm mgcl mm egta mm dtt heparin ph total volume l incubated reactions min c added laemli sample buffer heatdenatured samples ran bistris sdspage cut gel slices detect gstcdk strepiicycm western blotting stained gel slices containing substrate coomassie r biorad dried detected incorporated radioactivity autoradiography identified four unrelated girls anogenital renal malformations dysmorphic facial features normal intellect syndactyly toes similar combination features reported previously motherdaughter pair table supplementary note online authors noted clinical overlap townesbrocks syndrome suggested phenotype represented separate autosomal dominant entity mim define cardinal features syndrome characteristic facial appearance apparent telecanthus broad tripartite nasal tip variable syndactyly toes hypoplastic labia anal atresia urogenital malformations fig ah also observed variety features table figure clinical molecular characterization star syndrome figure clinical molecular characterization star syndrome af facial appearances cases apparent telecanthus dysplastic ears thin upper lips ace toe syndactyly bdf cases illustrate recognizable features star syndrome specific parental consent obtained publication photographs anal atresia hypoplastic labia shown gh xray films feet case showing four rays left deltashaped th th metatarsals right h compare clinical picture arraycgh data log ratio represents copy number loss six probes spanning kb one probe positioned within fama deletion remove parts functional genes j schematic structure fama position mutations fama five coding exons boxes cyclin domain green encoded exons horizontal arrow indicates deletion extending case includes exons whereas horizontal line exon indicates deletion found case removes exon sequence pink horizontal bars boxes indicate amplicons used qpcr sequencing one alternative exon amplicon indicated space constraints mutation dupt case results immediate stop codon ga ga splice mutations cases predicted deleterious alter conserved splice donor acceptor site intron respectively full size image kb table clinical features star syndrome cases table clinical features star syndrome cases full table basis phenotypic overlap townesbrocks okihiro feingold syndromes analyzed sall ref sall ref mycn found mutations genes supplementary methods online next carried genomewide highresolution oligonucleotide array comparative genomic hybridization cgh analysis supplementary methods genomic dna severely affected individual case lower lid coloboma epilepsy syringomyelia identified heterozygous deletion kb xq removed exons fama fig ij using realtime pcr confirmed deletion child excluded unaffected parents supplementary fig online supplementary methods supplementary table online cgh customized oligonucleotide array enriched probes xq followed breakpoint cloning defined exact deletion size bp gdelchromosome x ncbi build fig j supplementary figs online deletion removes coding regions exons well intron bp bp intron bp sequence including utr entire krtp pseudogene ncbi gene id paternity proven using routine methods find deletions overlapping fama available copy number variation cnv databases subsequently carried qpcr analysis three affected individuals cases motherdaughter pair literature cases case detected de novo heterozygous deletion kb overlapping exon supplementary fig b online using xqtargeted array cgh breakpoint cloning identified deletion bp gdelchromosome x ncbi build fig j supplementary figs removed bp intron exon including utr bp sequence found heterozygous fama point mutations remaining cases fig j supplementary fig supplementary methods supplementary table case identified mutation ga affecting splice donor site intron case identified frameshift mutation dupt immediately results premature stop codon nxfsx cases detected mutation ga alters splice acceptor site intron validated point mutations deletions independent rounds pcr sequencing qpcr confirmed paternity de novo status point mutations deletions sporadic cases none mutations seen dna unaffected female controls larger deletions involving fama found unrelated arraycgh investigations analyzing xchromosome inactivation supplementary methods supplementary fig online found complete skewing x inactivation cases almost complete skewing case suggesting cells carrying mutation active x chromosome growth disadvantage fetal development using rtpcr rna lymphoblastoid cells case supplementary fig find aberrant splice products additional evidence mutated allele inactivated furthermore fama subjected x inactivation cases parental origin deletions could determined result lack informative snps case mother case gave birth two boys clinically unaffected samples available cannot exclude condition lethal males fetal losses reported families function fama unknown gene consists five coding exons bp coding region encodes protein amino acids genbank lists mrna length bp reference sequence nm expression gene est data found adult tissues including kidney colon cervix uterus heart ncbi expression viewer unigene hs expression also noted listed tumor tissues well embryo fetus genes homologous fama ncbi homologene found x chromosome chimpanzee dog zebrafish similar gene chromosome however mouse rat true homologs species similar intronless genes chromosomes mouse rat likely arising retrotransposon insertion event murine x chromosome flanking genes atpb dusp conserved remnants fama sequence detected fama contains cyclinboxfold domain proteinbinding domain found cyclins role cell cycle transcription control human phenotype resulting cyclin gene mutation yet reported homozygous knockout mice ccnd encoding cyclin viable small reduced lifespan also dystrophic changes retina likely result decreased cell proliferation degeneration photoreceptor cells embryogenesis cyclin colocalizes sall nucleus proteins cooperatively mediate transcriptional repression phenotype cases overlaps considerably townesbrocks syndrome caused sall mutations carried coimmunoprecipitation find sall sall would interact fama manner similar observed sall cyclin found fama interacts sall sall supplementary fig online supporting hypothesis fama sall participate developmental pathway fama mutations lead star syndrome growth retardation cases table retinal abnormalities three cases reminiscent reduced body size retinal anomalies cyclin knockout mice therefore proliferation defect might partly responsible star syndrome address question carried knockdown fama mrna followed proliferation assay transfection hek cells three different famaspecific rnai oligonucleotides resulted significant reduction fama mrna expression proliferation transfected cells supplementary methods supplementary fig online supporting link fama cell proliferation found lossoffunction mutations fama result rather homogeneous clinical phenotype additional anomalies case likely result effect kb deletion expression neighboring gene possibly atpb dusp however cannot exclude homogeneous phenotype results ascertainment bias fama mutations including missense changes could result broader spectrum malformations genes causing overlapping phenotypes star syndrome townesbrocks syndrome seem act pathway note mycn gene mutated feingold syndrome direct regulator cyclin refs thus worth exploring whether phenotypic similarities feingold star syndrome might explained direct regulation fama mycn fama located approximately mb centromeric mecp xq duplications overlapping mecp fama described associated clinical phenotype females deletions overlapping mecp fama observed date although genes fama mecp implicated brain development fama mecp genes region known result xlinked dominant phenotypes thus deletion genes allele might lethal males females\n"
          ]
        }
      ],
      "source": [
        "nltk.download('punkt')\n",
        "\n",
        "text_df['Cleaned_Text'] = text_df['Text'].apply(lambda x: preprocess_text(str(x)))\n"
      ]
    },
    {
      "cell_type": "markdown",
      "metadata": {
        "id": "R1fk9ZDKYsl4"
      },
      "source": [
        "### Task 6: Merge Datasets, Clean, and Impute Values"
      ]
    },
    {
      "cell_type": "code",
      "execution_count": null,
      "metadata": {
        "id": "ewnmTSNbYvw8"
      },
      "outputs": [],
      "source": []
    },
    {
      "cell_type": "code",
      "execution_count": null,
      "metadata": {},
      "outputs": [],
      "source": []
    },
    {
      "cell_type": "markdown",
      "metadata": {
        "id": "ra4fhc6TZVSS"
      },
      "source": [
        "## Category: Train-test Split"
      ]
    },
    {
      "cell_type": "markdown",
      "metadata": {
        "id": "gHg0VvPvZcNg"
      },
      "source": [
        "### Task 7: Perform Train-test Split"
      ]
    },
    {
      "cell_type": "code",
      "execution_count": null,
      "metadata": {
        "id": "Nv_TPnUsZatY"
      },
      "outputs": [],
      "source": []
    },
    {
      "cell_type": "markdown",
      "metadata": {
        "id": "sgJTtpyhZphi"
      },
      "source": [
        "### Task 8: Check Distribution of Dataset"
      ]
    },
    {
      "cell_type": "code",
      "execution_count": null,
      "metadata": {
        "id": "IR-FaamGZqXr"
      },
      "outputs": [],
      "source": []
    },
    {
      "cell_type": "markdown",
      "metadata": {
        "id": "mtvl8ImIZt-C"
      },
      "source": [
        "## Category: Measure Performance Using Random Model"
      ]
    },
    {
      "cell_type": "markdown",
      "metadata": {
        "id": "Oi5cb5c-aSsE"
      },
      "source": [
        "### Task 9: Define a Function to Plot Performance Matrices"
      ]
    },
    {
      "cell_type": "code",
      "execution_count": null,
      "metadata": {
        "id": "hQ1CRPblaMay"
      },
      "outputs": [],
      "source": []
    },
    {
      "cell_type": "markdown",
      "metadata": {
        "id": "mn44IC4faUda"
      },
      "source": [
        "### Task 10: Measure Metrics from a Dummy Baseline Model"
      ]
    },
    {
      "cell_type": "code",
      "execution_count": null,
      "metadata": {
        "id": "9QiAcc9daXw6"
      },
      "outputs": [],
      "source": []
    },
    {
      "cell_type": "markdown",
      "metadata": {
        "id": "vjaegnP0aa8y"
      },
      "source": [
        "## Category: Encode the Features"
      ]
    },
    {
      "cell_type": "markdown",
      "metadata": {
        "id": "4vakqJ5yaif0"
      },
      "source": [
        "### Task 11: Define the Functions for Response Coding"
      ]
    },
    {
      "cell_type": "code",
      "execution_count": null,
      "metadata": {
        "id": "mrqDtGqkahdQ"
      },
      "outputs": [],
      "source": []
    },
    {
      "cell_type": "code",
      "execution_count": null,
      "metadata": {},
      "outputs": [],
      "source": []
    },
    {
      "cell_type": "markdown",
      "metadata": {
        "id": "dD5cWIZmbBok"
      },
      "source": [
        "### Task 12: Run the Function on 'Gene' and 'Variation' Features"
      ]
    },
    {
      "cell_type": "code",
      "execution_count": null,
      "metadata": {
        "id": "TNAxtl3zbLfd"
      },
      "outputs": [],
      "source": []
    },
    {
      "cell_type": "markdown",
      "metadata": {
        "id": "NkQkPDLJbMfI"
      },
      "source": [
        "### Task 13: Count Words in Text Field"
      ]
    },
    {
      "cell_type": "code",
      "execution_count": null,
      "metadata": {
        "id": "Zz41UsHhbPuU"
      },
      "outputs": [],
      "source": []
    },
    {
      "cell_type": "code",
      "execution_count": null,
      "metadata": {},
      "outputs": [],
      "source": []
    },
    {
      "cell_type": "markdown",
      "metadata": {
        "id": "_fZvJgWwbQTl"
      },
      "source": [
        "### Task 14: Define a Function for Response Coding"
      ]
    },
    {
      "cell_type": "code",
      "execution_count": null,
      "metadata": {
        "id": "hS1bpCoBbTi8"
      },
      "outputs": [],
      "source": []
    },
    {
      "cell_type": "markdown",
      "metadata": {
        "id": "8jxtnUiUbUQJ"
      },
      "source": [
        "### Task 15: Run the Function on Text Field"
      ]
    },
    {
      "cell_type": "code",
      "execution_count": null,
      "metadata": {
        "id": "ywMyw8YdbXYF"
      },
      "outputs": [],
      "source": []
    },
    {
      "cell_type": "markdown",
      "metadata": {
        "id": "-2vnutLybZC0"
      },
      "source": [
        "### Task 16: One-hot Encode the Features"
      ]
    },
    {
      "cell_type": "code",
      "execution_count": null,
      "metadata": {
        "id": "m4Ufm7iRbb-m"
      },
      "outputs": [],
      "source": []
    },
    {
      "cell_type": "markdown",
      "metadata": {
        "id": "wVavpF2Cbdu_"
      },
      "source": [
        "### Task 17: Normalizing the Text Feature"
      ]
    },
    {
      "cell_type": "code",
      "execution_count": null,
      "metadata": {
        "id": "CfntjIZWbhAY"
      },
      "outputs": [],
      "source": []
    },
    {
      "cell_type": "markdown",
      "metadata": {
        "id": "F1o_IjQ-bmk8"
      },
      "source": [
        "## Category: Check Feature Importances"
      ]
    },
    {
      "cell_type": "markdown",
      "metadata": {
        "id": "V8nm179ebs1i"
      },
      "source": [
        "### Task 18: Train Single Feature Models"
      ]
    },
    {
      "cell_type": "code",
      "execution_count": null,
      "metadata": {
        "id": "c6ZOXVlWbpSY"
      },
      "outputs": [],
      "source": []
    },
    {
      "cell_type": "markdown",
      "metadata": {
        "id": "WDLfRfGYqxVn"
      },
      "source": [
        "## Category: Model Training"
      ]
    },
    {
      "cell_type": "markdown",
      "metadata": {
        "id": "xDr0p8Wmq4Ta"
      },
      "source": [
        "### Task 19: Stack the Features"
      ]
    },
    {
      "cell_type": "code",
      "execution_count": null,
      "metadata": {
        "id": "sfiWdeW9q3HQ"
      },
      "outputs": [],
      "source": []
    },
    {
      "cell_type": "markdown",
      "metadata": {
        "id": "f_qefrq8rMfE"
      },
      "source": [
        "### Task 20: Train a Logistic Regression Model"
      ]
    },
    {
      "cell_type": "code",
      "execution_count": null,
      "metadata": {
        "id": "sT0cSGsJrPzJ"
      },
      "outputs": [],
      "source": []
    },
    {
      "cell_type": "markdown",
      "metadata": {
        "id": "YpH1HNtlrTxz"
      },
      "source": [
        "### Task 21: Train a Random Forest Model"
      ]
    },
    {
      "cell_type": "code",
      "execution_count": null,
      "metadata": {
        "id": "b2qMLUZqrbUA"
      },
      "outputs": [],
      "source": []
    }
  ],
  "metadata": {
    "colab": {
      "provenance": []
    },
    "kernelspec": {
      "display_name": "educative",
      "language": "python",
      "name": "python3"
    },
    "language_info": {
      "codemirror_mode": {
        "name": "ipython",
        "version": 3
      },
      "file_extension": ".py",
      "mimetype": "text/x-python",
      "name": "python",
      "nbconvert_exporter": "python",
      "pygments_lexer": "ipython3",
      "version": "3.9.20"
    }
  },
  "nbformat": 4,
  "nbformat_minor": 0
}
