{
  "cells": [
    {
      "cell_type": "markdown",
      "metadata": {
        "id": "FlJEXNelTtmv"
      },
      "source": [
        "## Category: Getting Started"
      ]
    },
    {
      "cell_type": "markdown",
      "metadata": {
        "id": "KZ0bjAe4Tu8A"
      },
      "source": [
        "### Task 1: Import Modules and Libraries"
      ]
    },
    {
      "cell_type": "code",
      "execution_count": null,
      "metadata": {
        "id": "wR7f17L3T6RC"
      },
      "outputs": [],
      "source": [
        "import pandas as pd\n",
        "import numpy as np\n",
        "import seaborn as sns\n",
        "import matplotlib.pyplot as plt\n",
        "import re\n",
        "import nltk\n",
        "from nltk.tokenize import word_tokenize\n",
        "from nltk.corpus import stopwords, punkt\n",
        "from sklearn.model_selection import train_test_split\n",
        "from sklearn.preprocessing import normalize\n",
        "from sklearn.metrics import accuracy_score, confusion_matrix, classification_report\n",
        "from sklearn.feature_extraction.text import CountVectorizer\n",
        "from sklearn.linear_model import LogisticRegression, SGDClassifier\n",
        "from sklearn.ensemble import RandomForestClassifier\n",
        "from sklearn.model_selection import train_test_split\n",
        "from sklearn.calibration import CalibratedClassifierCV\n",
        "from sklearn.sparse import hstack\n",
        "from collections import defaultdict, Counter"
      ]
    },
    {
      "cell_type": "markdown",
      "metadata": {
        "id": "ebSFv0kYVAcq"
      },
      "source": [
        "## Category: Loading Data"
      ]
    },
    {
      "cell_type": "markdown",
      "metadata": {
        "id": "i9Yt7mQLVKCB"
      },
      "source": [
        "### Task 2: Load and Explore the Genes and Variations Dataset"
      ]
    },
    {
      "cell_type": "code",
      "execution_count": null,
      "metadata": {
        "id": "7-dYjVi4VDLC"
      },
      "outputs": [],
      "source": []
    },
    {
      "cell_type": "markdown",
      "metadata": {
        "id": "7U-d9o3QVQry"
      },
      "source": [
        "### Task 3: Load the Text Dataset"
      ]
    },
    {
      "cell_type": "code",
      "execution_count": null,
      "metadata": {
        "id": "sm5buZHkVpub"
      },
      "outputs": [],
      "source": []
    },
    {
      "cell_type": "markdown",
      "metadata": {
        "id": "DCz5xHSHVqmJ"
      },
      "source": [
        "## Category: Text Pre-processing"
      ]
    },
    {
      "cell_type": "markdown",
      "metadata": {
        "id": "rkMUFnxdYeC-"
      },
      "source": [
        "### Task 4: Define the Function for Pre-processing"
      ]
    },
    {
      "cell_type": "code",
      "execution_count": null,
      "metadata": {
        "id": "NOCVw5Y9YaJA"
      },
      "outputs": [],
      "source": []
    },
    {
      "cell_type": "markdown",
      "metadata": {
        "id": "_WzXC5WJYoyD"
      },
      "source": [
        "### Task 5: Pre-process the Data"
      ]
    },
    {
      "cell_type": "code",
      "execution_count": null,
      "metadata": {
        "id": "UQvb8CGbYr9M"
      },
      "outputs": [],
      "source": []
    },
    {
      "cell_type": "markdown",
      "metadata": {
        "id": "R1fk9ZDKYsl4"
      },
      "source": [
        "### Task 6: Merge Datasets, Clean, and Impute Values"
      ]
    },
    {
      "cell_type": "code",
      "execution_count": null,
      "metadata": {
        "id": "ewnmTSNbYvw8"
      },
      "outputs": [],
      "source": []
    },
    {
      "cell_type": "code",
      "execution_count": null,
      "metadata": {},
      "outputs": [],
      "source": []
    },
    {
      "cell_type": "markdown",
      "metadata": {
        "id": "ra4fhc6TZVSS"
      },
      "source": [
        "## Category: Train-test Split"
      ]
    },
    {
      "cell_type": "markdown",
      "metadata": {
        "id": "gHg0VvPvZcNg"
      },
      "source": [
        "### Task 7: Perform Train-test Split"
      ]
    },
    {
      "cell_type": "code",
      "execution_count": null,
      "metadata": {
        "id": "Nv_TPnUsZatY"
      },
      "outputs": [],
      "source": []
    },
    {
      "cell_type": "markdown",
      "metadata": {
        "id": "sgJTtpyhZphi"
      },
      "source": [
        "### Task 8: Check Distribution of Dataset"
      ]
    },
    {
      "cell_type": "code",
      "execution_count": null,
      "metadata": {
        "id": "IR-FaamGZqXr"
      },
      "outputs": [],
      "source": []
    },
    {
      "cell_type": "markdown",
      "metadata": {
        "id": "mtvl8ImIZt-C"
      },
      "source": [
        "## Category: Measure Performance Using Random Model"
      ]
    },
    {
      "cell_type": "markdown",
      "metadata": {
        "id": "Oi5cb5c-aSsE"
      },
      "source": [
        "### Task 9: Define a Function to Plot Performance Matrices"
      ]
    },
    {
      "cell_type": "code",
      "execution_count": null,
      "metadata": {
        "id": "hQ1CRPblaMay"
      },
      "outputs": [],
      "source": []
    },
    {
      "cell_type": "markdown",
      "metadata": {
        "id": "mn44IC4faUda"
      },
      "source": [
        "### Task 10: Measure Metrics from a Dummy Baseline Model"
      ]
    },
    {
      "cell_type": "code",
      "execution_count": null,
      "metadata": {
        "id": "9QiAcc9daXw6"
      },
      "outputs": [],
      "source": []
    },
    {
      "cell_type": "markdown",
      "metadata": {
        "id": "vjaegnP0aa8y"
      },
      "source": [
        "## Category: Encode the Features"
      ]
    },
    {
      "cell_type": "markdown",
      "metadata": {
        "id": "4vakqJ5yaif0"
      },
      "source": [
        "### Task 11: Define the Functions for Response Coding"
      ]
    },
    {
      "cell_type": "code",
      "execution_count": null,
      "metadata": {
        "id": "mrqDtGqkahdQ"
      },
      "outputs": [],
      "source": []
    },
    {
      "cell_type": "code",
      "execution_count": null,
      "metadata": {},
      "outputs": [],
      "source": []
    },
    {
      "cell_type": "markdown",
      "metadata": {
        "id": "dD5cWIZmbBok"
      },
      "source": [
        "### Task 12: Run the Function on 'Gene' and 'Variation' Features"
      ]
    },
    {
      "cell_type": "code",
      "execution_count": null,
      "metadata": {
        "id": "TNAxtl3zbLfd"
      },
      "outputs": [],
      "source": []
    },
    {
      "cell_type": "markdown",
      "metadata": {
        "id": "NkQkPDLJbMfI"
      },
      "source": [
        "### Task 13: Count Words in Text Field"
      ]
    },
    {
      "cell_type": "code",
      "execution_count": null,
      "metadata": {
        "id": "Zz41UsHhbPuU"
      },
      "outputs": [],
      "source": []
    },
    {
      "cell_type": "code",
      "execution_count": null,
      "metadata": {},
      "outputs": [],
      "source": []
    },
    {
      "cell_type": "markdown",
      "metadata": {
        "id": "_fZvJgWwbQTl"
      },
      "source": [
        "### Task 14: Define a Function for Response Coding"
      ]
    },
    {
      "cell_type": "code",
      "execution_count": null,
      "metadata": {
        "id": "hS1bpCoBbTi8"
      },
      "outputs": [],
      "source": []
    },
    {
      "cell_type": "markdown",
      "metadata": {
        "id": "8jxtnUiUbUQJ"
      },
      "source": [
        "### Task 15: Run the Function on Text Field"
      ]
    },
    {
      "cell_type": "code",
      "execution_count": null,
      "metadata": {
        "id": "ywMyw8YdbXYF"
      },
      "outputs": [],
      "source": []
    },
    {
      "cell_type": "markdown",
      "metadata": {
        "id": "-2vnutLybZC0"
      },
      "source": [
        "### Task 16: One-hot Encode the Features"
      ]
    },
    {
      "cell_type": "code",
      "execution_count": null,
      "metadata": {
        "id": "m4Ufm7iRbb-m"
      },
      "outputs": [],
      "source": []
    },
    {
      "cell_type": "markdown",
      "metadata": {
        "id": "wVavpF2Cbdu_"
      },
      "source": [
        "### Task 17: Normalizing the Text Feature"
      ]
    },
    {
      "cell_type": "code",
      "execution_count": null,
      "metadata": {
        "id": "CfntjIZWbhAY"
      },
      "outputs": [],
      "source": []
    },
    {
      "cell_type": "markdown",
      "metadata": {
        "id": "F1o_IjQ-bmk8"
      },
      "source": [
        "## Category: Check Feature Importances"
      ]
    },
    {
      "cell_type": "markdown",
      "metadata": {
        "id": "V8nm179ebs1i"
      },
      "source": [
        "### Task 18: Train Single Feature Models"
      ]
    },
    {
      "cell_type": "code",
      "execution_count": null,
      "metadata": {
        "id": "c6ZOXVlWbpSY"
      },
      "outputs": [],
      "source": []
    },
    {
      "cell_type": "markdown",
      "metadata": {
        "id": "WDLfRfGYqxVn"
      },
      "source": [
        "## Category: Model Training"
      ]
    },
    {
      "cell_type": "markdown",
      "metadata": {
        "id": "xDr0p8Wmq4Ta"
      },
      "source": [
        "### Task 19: Stack the Features"
      ]
    },
    {
      "cell_type": "code",
      "execution_count": null,
      "metadata": {
        "id": "sfiWdeW9q3HQ"
      },
      "outputs": [],
      "source": []
    },
    {
      "cell_type": "markdown",
      "metadata": {
        "id": "f_qefrq8rMfE"
      },
      "source": [
        "### Task 20: Train a Logistic Regression Model"
      ]
    },
    {
      "cell_type": "code",
      "execution_count": null,
      "metadata": {
        "id": "sT0cSGsJrPzJ"
      },
      "outputs": [],
      "source": []
    },
    {
      "cell_type": "markdown",
      "metadata": {
        "id": "YpH1HNtlrTxz"
      },
      "source": [
        "### Task 21: Train a Random Forest Model"
      ]
    },
    {
      "cell_type": "code",
      "execution_count": null,
      "metadata": {
        "id": "b2qMLUZqrbUA"
      },
      "outputs": [],
      "source": []
    }
  ],
  "metadata": {
    "colab": {
      "provenance": []
    },
    "kernelspec": {
      "display_name": "Python 3",
      "language": "python",
      "name": "python3"
    },
    "language_info": {
      "name": "python",
      "version": "3.9.20"
    },
    "vscode": {
      "interpreter": {
        "hash": "916dbcbb3f70747c44a77c7bcd40155683ae19c65e1c03b4aa3499c5328201f1"
      }
    }
  },
  "nbformat": 4,
  "nbformat_minor": 0
}
