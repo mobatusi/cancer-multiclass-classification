{
  "cells": [
    {
      "cell_type": "markdown",
      "metadata": {
        "id": "FlJEXNelTtmv"
      },
      "source": [
        "## Category: Getting Started"
      ]
    },
    {
      "cell_type": "markdown",
      "metadata": {
        "id": "KZ0bjAe4Tu8A"
      },
      "source": [
        "### Task 1: Import Modules and Libraries"
      ]
    },
    {
      "cell_type": "code",
      "execution_count": 5,
      "metadata": {
        "id": "wR7f17L3T6RC"
      },
      "outputs": [
        {
          "name": "stderr",
          "output_type": "stream",
          "text": [
            "[nltk_data] Downloading package punkt to /Users/dolu/nltk_data...\n",
            "[nltk_data]   Package punkt is already up-to-date!\n",
            "[nltk_data] Downloading package stopwords to /Users/dolu/nltk_data...\n",
            "[nltk_data]   Package stopwords is already up-to-date!\n"
          ]
        }
      ],
      "source": [
        "import pandas as pd\n",
        "import numpy as np\n",
        "import seaborn as sns\n",
        "import matplotlib.pyplot as plt\n",
        "import re\n",
        "import nltk\n",
        "from nltk.tokenize import word_tokenize\n",
        "nltk.download('punkt')\n",
        "nltk.download('stopwords')\n",
        "from sklearn.model_selection import train_test_split\n",
        "from sklearn.preprocessing import normalize\n",
        "from sklearn.metrics import accuracy_score, confusion_matrix, classification_report\n",
        "from sklearn.feature_extraction.text import CountVectorizer\n",
        "from sklearn.linear_model import LogisticRegression, SGDClassifier\n",
        "from sklearn.ensemble import RandomForestClassifier\n",
        "from sklearn.model_selection import train_test_split\n",
        "from sklearn.calibration import CalibratedClassifierCV\n",
        "from scipy.sparse import hstack\n",
        "from collections import defaultdict, Counter"
      ]
    },
    {
      "cell_type": "markdown",
      "metadata": {
        "id": "ebSFv0kYVAcq"
      },
      "source": [
        "## Category: Loading Data"
      ]
    },
    {
      "cell_type": "markdown",
      "metadata": {
        "id": "i9Yt7mQLVKCB"
      },
      "source": [
        "### Task 2: Load and Explore the Genes and Variations Dataset"
      ]
    },
    {
      "cell_type": "code",
      "execution_count": 10,
      "metadata": {
        "id": "7-dYjVi4VDLC"
      },
      "outputs": [
        {
          "name": "stdout",
          "output_type": "stream",
          "text": [
            "(3321, 4)\n",
            "Index(['ID', 'Gene', 'Variation', 'Class'], dtype='object')\n",
            "   ID    Gene             Variation  Class\n",
            "0   0  FAM58A  Truncating Mutations      1\n",
            "1   1     CBL                 W802*      2\n",
            "2   2     CBL                 Q249E      2\n",
            "3   3     CBL                 N454D      3\n",
            "4   4     CBL                 L399V      4\n",
            "ID            int64\n",
            "Gene         object\n",
            "Variation    object\n",
            "Class         int64\n",
            "dtype: object\n",
            "ID           3321\n",
            "Gene          264\n",
            "Variation    2996\n",
            "Class           9\n",
            "dtype: int64\n"
          ]
        }
      ],
      "source": [
        "# Read the dataset using the pandas library.\n",
        "df = pd.read_csv('../data/training_variants.txt')\n",
        "# Print the number of data points (rows) and features (columns).\n",
        "print(df.shape)\n",
        "# List the name of each feature.\n",
        "print(df.columns)\n",
        "# Print the first five data points.\n",
        "print(df.head())\n",
        "# Print the data type of each feature.\n",
        "print(df.dtypes)\n",
        "# Print the number of unique categories of each feature.\n",
        "print(df.nunique())\n"
      ]
    },
    {
      "cell_type": "markdown",
      "metadata": {
        "id": "7U-d9o3QVQry"
      },
      "source": [
        "### Task 3: Load the Text Dataset"
      ]
    },
    {
      "cell_type": "code",
      "execution_count": null,
      "metadata": {
        "id": "sm5buZHkVpub"
      },
      "outputs": [],
      "source": []
    },
    {
      "cell_type": "markdown",
      "metadata": {
        "id": "DCz5xHSHVqmJ"
      },
      "source": [
        "## Category: Text Pre-processing"
      ]
    },
    {
      "cell_type": "markdown",
      "metadata": {
        "id": "rkMUFnxdYeC-"
      },
      "source": [
        "### Task 4: Define the Function for Pre-processing"
      ]
    },
    {
      "cell_type": "code",
      "execution_count": null,
      "metadata": {
        "id": "NOCVw5Y9YaJA"
      },
      "outputs": [],
      "source": []
    },
    {
      "cell_type": "markdown",
      "metadata": {
        "id": "_WzXC5WJYoyD"
      },
      "source": [
        "### Task 5: Pre-process the Data"
      ]
    },
    {
      "cell_type": "code",
      "execution_count": null,
      "metadata": {
        "id": "UQvb8CGbYr9M"
      },
      "outputs": [],
      "source": []
    },
    {
      "cell_type": "markdown",
      "metadata": {
        "id": "R1fk9ZDKYsl4"
      },
      "source": [
        "### Task 6: Merge Datasets, Clean, and Impute Values"
      ]
    },
    {
      "cell_type": "code",
      "execution_count": null,
      "metadata": {
        "id": "ewnmTSNbYvw8"
      },
      "outputs": [],
      "source": []
    },
    {
      "cell_type": "code",
      "execution_count": null,
      "metadata": {},
      "outputs": [],
      "source": []
    },
    {
      "cell_type": "markdown",
      "metadata": {
        "id": "ra4fhc6TZVSS"
      },
      "source": [
        "## Category: Train-test Split"
      ]
    },
    {
      "cell_type": "markdown",
      "metadata": {
        "id": "gHg0VvPvZcNg"
      },
      "source": [
        "### Task 7: Perform Train-test Split"
      ]
    },
    {
      "cell_type": "code",
      "execution_count": null,
      "metadata": {
        "id": "Nv_TPnUsZatY"
      },
      "outputs": [],
      "source": []
    },
    {
      "cell_type": "markdown",
      "metadata": {
        "id": "sgJTtpyhZphi"
      },
      "source": [
        "### Task 8: Check Distribution of Dataset"
      ]
    },
    {
      "cell_type": "code",
      "execution_count": null,
      "metadata": {
        "id": "IR-FaamGZqXr"
      },
      "outputs": [],
      "source": []
    },
    {
      "cell_type": "markdown",
      "metadata": {
        "id": "mtvl8ImIZt-C"
      },
      "source": [
        "## Category: Measure Performance Using Random Model"
      ]
    },
    {
      "cell_type": "markdown",
      "metadata": {
        "id": "Oi5cb5c-aSsE"
      },
      "source": [
        "### Task 9: Define a Function to Plot Performance Matrices"
      ]
    },
    {
      "cell_type": "code",
      "execution_count": null,
      "metadata": {
        "id": "hQ1CRPblaMay"
      },
      "outputs": [],
      "source": []
    },
    {
      "cell_type": "markdown",
      "metadata": {
        "id": "mn44IC4faUda"
      },
      "source": [
        "### Task 10: Measure Metrics from a Dummy Baseline Model"
      ]
    },
    {
      "cell_type": "code",
      "execution_count": null,
      "metadata": {
        "id": "9QiAcc9daXw6"
      },
      "outputs": [],
      "source": []
    },
    {
      "cell_type": "markdown",
      "metadata": {
        "id": "vjaegnP0aa8y"
      },
      "source": [
        "## Category: Encode the Features"
      ]
    },
    {
      "cell_type": "markdown",
      "metadata": {
        "id": "4vakqJ5yaif0"
      },
      "source": [
        "### Task 11: Define the Functions for Response Coding"
      ]
    },
    {
      "cell_type": "code",
      "execution_count": null,
      "metadata": {
        "id": "mrqDtGqkahdQ"
      },
      "outputs": [],
      "source": []
    },
    {
      "cell_type": "code",
      "execution_count": null,
      "metadata": {},
      "outputs": [],
      "source": []
    },
    {
      "cell_type": "markdown",
      "metadata": {
        "id": "dD5cWIZmbBok"
      },
      "source": [
        "### Task 12: Run the Function on 'Gene' and 'Variation' Features"
      ]
    },
    {
      "cell_type": "code",
      "execution_count": null,
      "metadata": {
        "id": "TNAxtl3zbLfd"
      },
      "outputs": [],
      "source": []
    },
    {
      "cell_type": "markdown",
      "metadata": {
        "id": "NkQkPDLJbMfI"
      },
      "source": [
        "### Task 13: Count Words in Text Field"
      ]
    },
    {
      "cell_type": "code",
      "execution_count": null,
      "metadata": {
        "id": "Zz41UsHhbPuU"
      },
      "outputs": [],
      "source": []
    },
    {
      "cell_type": "code",
      "execution_count": null,
      "metadata": {},
      "outputs": [],
      "source": []
    },
    {
      "cell_type": "markdown",
      "metadata": {
        "id": "_fZvJgWwbQTl"
      },
      "source": [
        "### Task 14: Define a Function for Response Coding"
      ]
    },
    {
      "cell_type": "code",
      "execution_count": null,
      "metadata": {
        "id": "hS1bpCoBbTi8"
      },
      "outputs": [],
      "source": []
    },
    {
      "cell_type": "markdown",
      "metadata": {
        "id": "8jxtnUiUbUQJ"
      },
      "source": [
        "### Task 15: Run the Function on Text Field"
      ]
    },
    {
      "cell_type": "code",
      "execution_count": null,
      "metadata": {
        "id": "ywMyw8YdbXYF"
      },
      "outputs": [],
      "source": []
    },
    {
      "cell_type": "markdown",
      "metadata": {
        "id": "-2vnutLybZC0"
      },
      "source": [
        "### Task 16: One-hot Encode the Features"
      ]
    },
    {
      "cell_type": "code",
      "execution_count": null,
      "metadata": {
        "id": "m4Ufm7iRbb-m"
      },
      "outputs": [],
      "source": []
    },
    {
      "cell_type": "markdown",
      "metadata": {
        "id": "wVavpF2Cbdu_"
      },
      "source": [
        "### Task 17: Normalizing the Text Feature"
      ]
    },
    {
      "cell_type": "code",
      "execution_count": null,
      "metadata": {
        "id": "CfntjIZWbhAY"
      },
      "outputs": [],
      "source": []
    },
    {
      "cell_type": "markdown",
      "metadata": {
        "id": "F1o_IjQ-bmk8"
      },
      "source": [
        "## Category: Check Feature Importances"
      ]
    },
    {
      "cell_type": "markdown",
      "metadata": {
        "id": "V8nm179ebs1i"
      },
      "source": [
        "### Task 18: Train Single Feature Models"
      ]
    },
    {
      "cell_type": "code",
      "execution_count": null,
      "metadata": {
        "id": "c6ZOXVlWbpSY"
      },
      "outputs": [],
      "source": []
    },
    {
      "cell_type": "markdown",
      "metadata": {
        "id": "WDLfRfGYqxVn"
      },
      "source": [
        "## Category: Model Training"
      ]
    },
    {
      "cell_type": "markdown",
      "metadata": {
        "id": "xDr0p8Wmq4Ta"
      },
      "source": [
        "### Task 19: Stack the Features"
      ]
    },
    {
      "cell_type": "code",
      "execution_count": null,
      "metadata": {
        "id": "sfiWdeW9q3HQ"
      },
      "outputs": [],
      "source": []
    },
    {
      "cell_type": "markdown",
      "metadata": {
        "id": "f_qefrq8rMfE"
      },
      "source": [
        "### Task 20: Train a Logistic Regression Model"
      ]
    },
    {
      "cell_type": "code",
      "execution_count": null,
      "metadata": {
        "id": "sT0cSGsJrPzJ"
      },
      "outputs": [],
      "source": []
    },
    {
      "cell_type": "markdown",
      "metadata": {
        "id": "YpH1HNtlrTxz"
      },
      "source": [
        "### Task 21: Train a Random Forest Model"
      ]
    },
    {
      "cell_type": "code",
      "execution_count": null,
      "metadata": {
        "id": "b2qMLUZqrbUA"
      },
      "outputs": [],
      "source": []
    }
  ],
  "metadata": {
    "colab": {
      "provenance": []
    },
    "kernelspec": {
      "display_name": "Python 3",
      "language": "python",
      "name": "python3"
    },
    "language_info": {
      "codemirror_mode": {
        "name": "ipython",
        "version": 3
      },
      "file_extension": ".py",
      "mimetype": "text/x-python",
      "name": "python",
      "nbconvert_exporter": "python",
      "pygments_lexer": "ipython3",
      "version": "3.9.20"
    },
    "vscode": {
      "interpreter": {
        "hash": "916dbcbb3f70747c44a77c7bcd40155683ae19c65e1c03b4aa3499c5328201f1"
      }
    }
  },
  "nbformat": 4,
  "nbformat_minor": 0
}
